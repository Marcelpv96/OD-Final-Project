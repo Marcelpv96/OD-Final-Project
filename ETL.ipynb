{
 "cells": [
  {
   "cell_type": "markdown",
   "metadata": {},
   "source": [
    "# Open data project, ETL \n",
    "\n",
    "We have differnt sources of information:\n",
    "\n",
    "    1- Kaggle play store dataset:https://www.kaggle.com/orgesleka/android-apps 400000 infos for android Apps scraped with Scrapy from Google Play. Those fields are included: \n",
    "        - name\n",
    "        - datePublished\n",
    "        - numDownloadsMin\n",
    "        - fileSize\n",
    "        - packageName\n",
    "        - price\n",
    "        - aggregateRating\n",
    "        - softwareVersion\n",
    "        - ratingCount\n",
    "        - dateCrawled\n",
    "        - url\n",
    "    \n",
    "    2- UCSD Amazon product data, review\n",
    "        - reviewerID: ID of the reviewer, e.g. A2SUAM1J3GNN3B\n",
    "        - asin: ID of the product, e.g. 0000013714\n",
    "        - reviewerName: name of the reviewer\n",
    "        - helpful: helpfulness rating of the review, e.g. 2/3\n",
    "        - reviewText: text of the review\n",
    "        - overall: rating of the product\n",
    "        - summary: summary of the review\n",
    "        - unixReviewTime: time of the review (unix time)\n",
    "        - reviewTime: time of the review (raw)\n",
    "\n",
    "    3- UCSD Amazon product data metadata\n",
    "        - asin: ID of the product, e.g. 0000031852\n",
    "        - title: name of the product\n",
    "        - price: price in US dollars (at time of crawl)\n",
    "        - imUrl: url of the product image\n",
    "        - related: related products (also bought, also viewed, bought together, buy after viewing)\n",
    "        - salesRank: sales rank information\n",
    "        - brand: brand name\n",
    "        - categories: list of categories the product belongs to\n"
   ]
  },
  {
   "cell_type": "code",
   "execution_count": 1,
   "metadata": {},
   "outputs": [
    {
     "name": "stdout",
     "output_type": "stream",
     "text": [
      "> Your available sources are: data_sources/meta_Apps_for_Android.json, data_sources/reviews_Apps_for_Android.json, data_sources/apps.csv\n"
     ]
    }
   ],
   "source": [
    "import pandas as pd\n",
    "import glob\n",
    "import json\n",
    "import re \n",
    "\n",
    "\n",
    "data_sources = glob.glob(\"data_sources/*\")\n",
    "print(\"> Your available sources are: %s\" % \", \".join(data_sources))"
   ]
  },
  {
   "cell_type": "markdown",
   "metadata": {},
   "source": [
    "### Import data from kaggle data source"
   ]
  },
  {
   "cell_type": "code",
   "execution_count": 2,
   "metadata": {},
   "outputs": [
    {
     "name": "stderr",
     "output_type": "stream",
     "text": [
      "b'Skipping line 41088: expected 11 fields, saw 12\\n'\n",
      "b'Skipping line 304239: expected 11 fields, saw 12\\n'\n",
      "/Users/Marcelpv96/anaconda3/lib/python3.7/site-packages/IPython/core/interactiveshell.py:3020: DtypeWarning: Columns (2,6,8) have mixed types. Specify dtype option on import or set low_memory=False.\n",
      "  interactivity=interactivity, compiler=compiler, result=result)\n"
     ]
    }
   ],
   "source": [
    "all_apps = pd.read_csv(\"data_sources/apps.csv\", error_bad_lines=False, encoding = \"ISO-8859-1\")"
   ]
  },
  {
   "cell_type": "markdown",
   "metadata": {},
   "source": [
    "### Import data of amazon reviews and apps"
   ]
  },
  {
   "cell_type": "code",
   "execution_count": null,
   "metadata": {},
   "outputs": [],
   "source": [
    "metadata_file = open(\"data_sources/meta_Apps_for_Android.json\", \"r\") \n",
    "reviews_file = open(\"data_sources/reviews_Apps_for_Android.json\", \"r\")\n",
    "\n",
    "\n",
    "def parse(file):\n",
    "    for l in file:\n",
    "        yield eval(l)\n",
    "    \n",
    "def get_df(file):\n",
    "    i = 0\n",
    "    df = {}\n",
    "    for d in parse(file):\n",
    "        df[i] = d\n",
    "        i += 1\n",
    "    return pd.DataFrame.from_dict(df, orient='index')\n",
    "\n",
    "metadata_df = get_df(metadata_file)\n",
    "reviews_df = get_df(reviews_file)\n"
   ]
  },
  {
   "cell_type": "markdown",
   "metadata": {},
   "source": [
    "### Some preprocessing\n",
    "\n",
    "- Delete some stranges app-names.\n",
    "- Which will be app name for each 'asin'."
   ]
  },
  {
   "cell_type": "code",
   "execution_count": null,
   "metadata": {},
   "outputs": [],
   "source": [
    "# Delete apps name that contains , or ; because this in csv format is another column, and this will crash in Neo4j.\n",
    "# also delete this which its name is only ???? due to them contain extrange characters.\n",
    "all_apps = all_apps.dropna()\n",
    "all_apps = all_apps[[False if ',' in app or '?' in app or ';' in app or '\"' in app else True for app in  all_apps['name']]]\n",
    "apps_name = list(all_apps['name'])"
   ]
  },
  {
   "cell_type": "code",
   "execution_count": null,
   "metadata": {},
   "outputs": [],
   "source": [
    "# Delete nan from metadata and reviews\n",
    "metadata_df = metadata_df[['asin', 'related', 'categories']].dropna()\n",
    "reviews_df = reviews_df.dropna()"
   ]
  },
  {
   "cell_type": "code",
   "execution_count": 3,
   "metadata": {},
   "outputs": [],
   "source": [
    "# If asin_name.json already exist, load it\n",
    "import json\n",
    "\n",
    "\n",
    "with open('asin_name.json', 'r') as f:\n",
    "    asin_name = json.load(f)"
   ]
  },
  {
   "cell_type": "code",
   "execution_count": 4,
   "metadata": {},
   "outputs": [
    {
     "data": {
      "text/plain": [
       "{'B004AFQAUA': 'Napster',\n",
       " 'B004AGCR1K': 'Scan2PDF Mobile 2.0',\n",
       " 'B004AHBBPW': 'Daily Bible',\n",
       " 'B004ALFHV2': 'Free Calls and Free Texting, Photo and Video Sharing and Cheap International Calls by Voxofon',\n",
       " 'B004ALVL6W': 'Bubble Defense 2',\n",
       " 'B004AMAIZQ': 'Fast Reboot',\n",
       " 'B004AMDC86': 'Enigma - Cryptograms',\n",
       " 'B004AMFUYK': 'Vegas Pool Sharks',\n",
       " 'B004AMLATE': 'Tank Ace 1944',\n",
       " 'B004AMRGLA': 'Gragger',\n",
       " 'B004ANE2WU': 'Par 72 Golf',\n",
       " 'B004ANC00Q': 'Car Locator',\n",
       " 'B004ANMWPY': 'TV Listings by TV24 - TV Guide',\n",
       " 'B004AZH4C8': 'Enjoy Sudoku',\n",
       " 'B004AZSY4K': 'Overkill: Space Shooter',\n",
       " 'B004DLX6WQ': 'Black & White Theme',\n",
       " 'B004DLX75W': 'Neon Cherries Theme',\n",
       " 'B004DM1OAQ': 'Backgammon Free',\n",
       " 'B004DM197Y': \"View a Clue Zaza's Parade\",\n",
       " 'B004DM5L0U': 'Speed Dial Old School',\n",
       " 'B004DM5L0K': 'Kids Piano',\n",
       " 'B004DP30AU': 'Spell Checker',\n",
       " 'B004DP9QFS': 'TerraTime',\n",
       " 'B00LBH2UMM': 'KIM KARDASHIAN: HOLLYWOOD',\n",
       " 'B00FLU0AQI': 'Shuttle+ Music Player',\n",
       " 'B00A7W29BE': 'Genius Scan+',\n",
       " 'B006T2U1V6': 'Word of Promise® App',\n",
       " 'B00FBCIYZU': 'NIV Live: A Bible Experience',\n",
       " 'B00FAPF5U0': 'Candy Crush Saga',\n",
       " 'B00FE5ZF4W': 'Spare Phone',\n",
       " 'B00FR88VTC': 'Tiny Scanner Pro - PDF scanner to scan document, receipt & fax',\n",
       " 'B006MK63XK': 'CONTRACT KILLER: ZOMBIES',\n",
       " 'B007JPG04E': 'FRONTLINE COMMANDO',\n",
       " 'B00DRI8ETQ': 'Digipill - De-Stress, Get Slimmer and Sleep Better',\n",
       " 'B004ALM0K8': 'Bubble Defense',\n",
       " 'B0071BXRGA': 'Word Bubbles for Kids',\n",
       " 'B007V4X5MS': 'Alphabet Coloring',\n",
       " 'B004ALJIOE': 'Fast Reboot Pro',\n",
       " 'B00DREKMPO': 'Mobile Security & Antivirus',\n",
       " 'B00KPTKW8G': 'Puzzle & Dragons (Kindle Tablet Edition)',\n",
       " 'B00A6F815A': 'Cryptograms - Quality Cryptoquote Puzzles',\n",
       " 'B00HAOGSYG': 'Tetris',\n",
       " 'B0081IMPJW': 'Subs vs Ships 3D : Land Sea and Air',\n",
       " 'B007WUQCJY': 'Sudoku Elements HD',\n",
       " 'B00D5W5CUI': 'Mike The Knight: The Great Gallop(Kindle Tablet Edition)',\n",
       " 'B008I43DYU': 'Calculator Pro'}"
      ]
     },
     "execution_count": 4,
     "metadata": {},
     "output_type": "execute_result"
    }
   ],
   "source": []
  },
  {
   "cell_type": "code",
   "execution_count": null,
   "metadata": {},
   "outputs": [],
   "source": []
  },
  {
   "cell_type": "code",
   "execution_count": 68,
   "metadata": {},
   "outputs": [],
   "source": [
    "# list of interesting asins based on if they are related with other asins\n",
    "interesting_asins = []\n",
    "for asin in asin_name:\n",
    "    related = metadata_df[metadata_df['asin']==asin]['related']\n",
    "    for relation in related:\n",
    "        for kind in relation:\n",
    "            interesting_asins += relation[kind][0:5]"
   ]
  },
  {
   "cell_type": "code",
   "execution_count": 123,
   "metadata": {},
   "outputs": [],
   "source": [
    "# list of intereting asins based on if they are apps reviewed more than one time by a user.\n",
    "reviewers = list(set(df_reviews_table['reviewerName']))[6:32]\n",
    "interesting_asins = []\n",
    "for reviewer in reviewers:\n",
    "    reviewer_df = reviews_df[reviews_df['reviewerName'] == reviewer]\n",
    "    apps_reviewed = list(reviewer_df['asin'])\n",
    "    if len(apps_reviewed) > 1:\n",
    "        interesting_asins += apps_reviewed\n",
    "    \n",
    "  "
   ]
  },
  {
   "cell_type": "code",
   "execution_count": null,
   "metadata": {},
   "outputs": [],
   "source": []
  },
  {
   "cell_type": "code",
   "execution_count": 129,
   "metadata": {},
   "outputs": [
    {
     "name": "stdout",
     "output_type": "stream",
     "text": [
      "> TRY number 1\n",
      ">(108/270) Processing asin [B0074AKEDC]\n",
      ">(108/270) HTTP ERROR\n",
      ">(187/270) Processing asin [B00G357N92]\n",
      ">(187/270) HTTP ERROR\n",
      ">(118/270) Processing asin [B007ZE34FM]\n",
      ">(118/270) HTTP ERROR\n",
      ">(160/270) Processing asin [B00AQ8S0F8]\n",
      ">(160/270) HTTP ERROR\n",
      ">(206/270) Processing asin [B006OCM0G0]\n",
      ">(206/270) HTTP ERROR\n",
      ">(169/270) Processing asin [B00CZDSK7K]\n",
      ">(169/270) HTTP ERROR\n",
      ">(82/270) Processing asin [B0054JZC6E]\n"
     ]
    },
    {
     "ename": "KeyboardInterrupt",
     "evalue": "",
     "output_type": "error",
     "traceback": [
      "\u001b[0;31m---------------------------------------------------------------------------\u001b[0m",
      "\u001b[0;31mKeyboardInterrupt\u001b[0m                         Traceback (most recent call last)",
      "\u001b[0;32m<ipython-input-129-a805f9a8705a>\u001b[0m in \u001b[0;36m<module>\u001b[0;34m\u001b[0m\n\u001b[1;32m     17\u001b[0m             \u001b[0mprint\u001b[0m\u001b[0;34m(\u001b[0m\u001b[0;34m\">(%d/%d) Processing asin [%s]\"\u001b[0m \u001b[0;34m%\u001b[0m  \u001b[0;34m(\u001b[0m\u001b[0mj\u001b[0m\u001b[0;34m,\u001b[0m\u001b[0mlen\u001b[0m\u001b[0;34m(\u001b[0m\u001b[0mall_asin\u001b[0m\u001b[0;34m)\u001b[0m\u001b[0;34m,\u001b[0m\u001b[0masin\u001b[0m\u001b[0;34m)\u001b[0m\u001b[0;34m)\u001b[0m\u001b[0;34m\u001b[0m\u001b[0;34m\u001b[0m\u001b[0m\n\u001b[1;32m     18\u001b[0m             \u001b[0;32mtry\u001b[0m\u001b[0;34m:\u001b[0m\u001b[0;34m\u001b[0m\u001b[0;34m\u001b[0m\u001b[0m\n\u001b[0;32m---> 19\u001b[0;31m                 \u001b[0mtime\u001b[0m\u001b[0;34m.\u001b[0m\u001b[0msleep\u001b[0m\u001b[0;34m(\u001b[0m\u001b[0;36m20\u001b[0m\u001b[0;34m)\u001b[0m\u001b[0;34m\u001b[0m\u001b[0;34m\u001b[0m\u001b[0m\n\u001b[0m\u001b[1;32m     20\u001b[0m                 \u001b[0mapp_name\u001b[0m \u001b[0;34m=\u001b[0m \u001b[0mamazon_scraper\u001b[0m\u001b[0;34m.\u001b[0m\u001b[0mmain\u001b[0m\u001b[0;34m(\u001b[0m\u001b[0;34m\"https://www.amazon.com/dp/%s\"\u001b[0m \u001b[0;34m%\u001b[0m \u001b[0masin\u001b[0m\u001b[0;34m)\u001b[0m\u001b[0;34m\u001b[0m\u001b[0;34m\u001b[0m\u001b[0m\n\u001b[1;32m     21\u001b[0m                 \u001b[0mprint\u001b[0m\u001b[0;34m(\u001b[0m\u001b[0;34m\"> App name is: [%s] \"\u001b[0m \u001b[0;34m%\u001b[0m \u001b[0mapp_name\u001b[0m\u001b[0;34m)\u001b[0m\u001b[0;34m\u001b[0m\u001b[0;34m\u001b[0m\u001b[0m\n",
      "\u001b[0;31mKeyboardInterrupt\u001b[0m: "
     ]
    }
   ],
   "source": [
    "# Generate dictonary of, which asin is each App Name\n",
    "from web_scraper import Scraper\n",
    "import time\n",
    "import urllib\n",
    "import json\n",
    "import random\n",
    "\n",
    "#all_asin = list(metadata_df['asin'])\n",
    "amazon_scraper = Scraper()\n",
    "all_asin = interesting_asins\n",
    "for turn in range(1,10):\n",
    "    print(\"> TRY number %d\" % turn)\n",
    "    for _ in range(0, 20):    \n",
    "        j = random.randint(0, len(all_asin)-1)\n",
    "        asin = all_asin[j]\n",
    "        if asin not in asin_name:\n",
    "            print(\">(%d/%d) Processing asin [%s]\" %  (j,len(all_asin),asin))\n",
    "            try:\n",
    "                time.sleep(20)\n",
    "                app_name = amazon_scraper.main(\"https://www.amazon.com/dp/%s\" % asin)   \n",
    "                print(\"> App name is: [%s] \" % app_name)\n",
    "                asin_name[asin] = app_name\n",
    "            except urllib.error.HTTPError:\n",
    "                print(\">(%d/%d) HTTP ERROR\" % (j, len(all_asin)))\n",
    "\n",
    "#with open('asin_name.json', 'w+') as fp:\n",
    " #   json.dump(asin_name, fp)"
   ]
  },
  {
   "cell_type": "code",
   "execution_count": 131,
   "metadata": {},
   "outputs": [],
   "source": []
  },
  {
   "cell_type": "markdown",
   "metadata": {},
   "source": [
    "### Generate Integrated schema\n",
    "\n",
    "- Our aim here is generate 4 tables of data, that will be our Integrated Schema\n",
    "\n",
    "\n",
    "- App table -> [App name, RatingCount, aggregateRating, numDownloadsMin]\n",
    "\n",
    "\n",
    "- App Categories -> [APP name, Category]\n",
    "\n",
    "\n",
    "- Related Table -> [App name , App name, 'relation (this could be: Viewed togeteher, bought together']\n",
    "\n",
    "\n",
    "- Review Table -> [App name, reviewID, reviewerID, reviewText, Rating]\n",
    "\n",
    "\n"
   ]
  },
  {
   "cell_type": "code",
   "execution_count": 5,
   "metadata": {},
   "outputs": [],
   "source": [
    "# App table: Dataframe with all Applications using information provided by Kaggle playstore dataset.\n",
    "\n",
    "def gen_app_table(all_apps):\n",
    "    app_table = all_apps.copy()\n",
    "    app_table = app_table[['name', 'price', 'aggregateRating']]\n",
    "    app_table = app_table.rename(index = str, columns={\"name\": \"app\", \"numDownloadsMin\":\"downloadsMin\", \n",
    "                                          \"price\": \"price\", 'aggregateRating': \"rating\"})\n",
    "    return app_table"
   ]
  },
  {
   "cell_type": "code",
   "execution_count": null,
   "metadata": {},
   "outputs": [],
   "source": [
    "# Categories table, which category for each app.\n",
    "\n",
    "def gen_categories_table(metadata, asin_name):\n",
    "    values = []\n",
    "    asin = list(metadata['asin'])\n",
    "    categories = list(metadata['categories'])\n",
    "    for i in range(0, metadata.shape[0]-1):\n",
    "        for category in categories[i][0]:\n",
    "            if asin[i] in asin_name:\n",
    "                values.append((asin_name[asin[i]], category))          \n",
    "    return pd.DataFrame(values, columns=(\"app\", \"category\"))"
   ]
  },
  {
   "cell_type": "code",
   "execution_count": null,
   "metadata": {},
   "outputs": [],
   "source": [
    "# Related table which apps are related with which.\n",
    "\n",
    "def gen_related_table(metadata, asin_name):\n",
    "    values = []\n",
    "    asin = list(metadata['asin'])\n",
    "    related = list(metadata['related'])\n",
    "    for i in range(0, metadata.shape[0]-1):\n",
    "        app_asin = asin[i]\n",
    "        if app_asin in asin_name:\n",
    "            app = asin_name[app_asin]\n",
    "            relations = related[i]\n",
    "            for kind_relation in  relations.keys():\n",
    "                for app_related in relations[kind_relation]:\n",
    "                    if app_related in asin_name:\n",
    "                        values.append((app, asin_name[app_related], kind_relation))                \n",
    "    return pd.DataFrame(values, columns=(\"app\", \"related\", \"kind\"))\n",
    "\n"
   ]
  },
  {
   "cell_type": "code",
   "execution_count": null,
   "metadata": {},
   "outputs": [],
   "source": [
    "# Review table, which review corresponds to each.\n",
    "\n",
    "def gen_reviews_table(reviews, asin_name):\n",
    "    values = []\n",
    "    asin = list(reviews['asin'])\n",
    "    reviewerID = list(reviews['reviewerID'])\n",
    "    reviewerName = list(reviews['reviewerName'])\n",
    "    helpful = list(reviews['helpful'])\n",
    "    overall = list(reviews['overall'])\n",
    "    review = list(reviews['summary'])\n",
    "    for i in range(0, reviews.shape[0]):\n",
    "        if asin[i] in asin_name and reviewerName[i] != 'Amazon Customer':\n",
    "            values.append((i, asin_name[asin[i]], reviewerID[i], reviewerName[i], review[i], overall[i]))\n",
    "    return pd.DataFrame(values, columns=(\"reviewID\", \"app\", \"reviewerID\", \"reviewerName\", \"review\", \"overall\"))"
   ]
  },
  {
   "cell_type": "markdown",
   "metadata": {},
   "source": [
    "### Load all information to pandas dataframes"
   ]
  },
  {
   "cell_type": "code",
   "execution_count": null,
   "metadata": {},
   "outputs": [],
   "source": [
    "df_app_table = gen_app_table(all_apps)\n",
    "df_categories_table = gen_categories_table(metadata_df, asin_name)\n",
    "df_related_table = gen_related_table(metadata_df, asin_name)\n",
    "df_reviews_table = gen_reviews_table(reviews_df, asin_name)"
   ]
  },
  {
   "cell_type": "code",
   "execution_count": 6,
   "metadata": {},
   "outputs": [],
   "source": [
    "df_app_table = gen_app_table(all_apps)"
   ]
  },
  {
   "cell_type": "markdown",
   "metadata": {},
   "source": [
    "### Write final results in diferent '.csv' files"
   ]
  },
  {
   "cell_type": "code",
   "execution_count": null,
   "metadata": {},
   "outputs": [],
   "source": [
    "df_app_table.to_csv(\"integrated_data/app.csv\")\n",
    "df_categories_table.to_csv(\"integrated_data/categories.csv\")\n",
    "df_related_table.to_csv(\"integrated_data/related.csv\")\n",
    "df_reviews_table.to_csv(\"integrated_data/reviews.csv\")"
   ]
  },
  {
   "cell_type": "code",
   "execution_count": null,
   "metadata": {},
   "outputs": [],
   "source": [
    "len(list(df_reviews_table['reviewerName']))"
   ]
  },
  {
   "cell_type": "markdown",
   "metadata": {},
   "source": [
    "### Write a reduced data set, as a 'demo' of the ETL system\n",
    "   - Only pick this apps which we known the relation Asin -> App Name"
   ]
  },
  {
   "cell_type": "code",
   "execution_count": 7,
   "metadata": {},
   "outputs": [],
   "source": [
    "valid_apps = list(asin_name.values())\n",
    "df_app_table_reduced = df_app_table[[True if app in valid_apps else False for app in list(all_apps['name'])]]"
   ]
  },
  {
   "cell_type": "code",
   "execution_count": 8,
   "metadata": {},
   "outputs": [],
   "source": [
    "df_app_table_reduced.to_csv(\"integrated_data/app_reduced.csv\")"
   ]
  },
  {
   "cell_type": "code",
   "execution_count": null,
   "metadata": {},
   "outputs": [],
   "source": [
    "len(list(df_reviews_table[df_reviews_table['reviewerName'] != \"Amazon Customer\"]['reviewerName']))"
   ]
  },
  {
   "cell_type": "code",
   "execution_count": null,
   "metadata": {},
   "outputs": [],
   "source": [
    "len(set(list(df_reviews_table[df_reviews_table['reviewerName'] != \"Amazon Customer\"]['reviewerName'])))"
   ]
  }
 ],
 "metadata": {
  "kernelspec": {
   "display_name": "Python 3",
   "language": "python",
   "name": "python3"
  },
  "language_info": {
   "codemirror_mode": {
    "name": "ipython",
    "version": 3
   },
   "file_extension": ".py",
   "mimetype": "text/x-python",
   "name": "python",
   "nbconvert_exporter": "python",
   "pygments_lexer": "ipython3",
   "version": "3.7.1"
  }
 },
 "nbformat": 4,
 "nbformat_minor": 2
}
