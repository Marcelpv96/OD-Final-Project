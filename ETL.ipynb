{
 "cells": [
  {
   "cell_type": "markdown",
   "metadata": {},
   "source": [
    "# Open data project, ETL \n",
    "\n",
    "We have differnt sources of information:\n",
    "\n",
    "    1- Kaggle play store dataset:https://www.kaggle.com/orgesleka/android-apps 400000 infos for android Apps scraped with Scrapy from Google Play. Those fields are included: \n",
    "        - name\n",
    "        - datePublished\n",
    "        - numDownloadsMin\n",
    "        - fileSize\n",
    "        - packageName\n",
    "        - price\n",
    "        - aggregateRating\n",
    "        - softwareVersion\n",
    "        - ratingCount\n",
    "        - dateCrawled\n",
    "        - url\n",
    "    \n",
    "    2- UCSD Amazon product data, review\n",
    "        - reviewerID: ID of the reviewer, e.g. A2SUAM1J3GNN3B\n",
    "        - asin: ID of the product, e.g. 0000013714\n",
    "        - reviewerName: name of the reviewer\n",
    "        - helpful: helpfulness rating of the review, e.g. 2/3\n",
    "        - reviewText: text of the review\n",
    "        - overall: rating of the product\n",
    "        - summary: summary of the review\n",
    "        - unixReviewTime: time of the review (unix time)\n",
    "        - reviewTime: time of the review (raw)\n",
    "\n",
    "    3- UCSD Amazon product data metadata\n",
    "        - asin: ID of the product, e.g. 0000031852\n",
    "        - title: name of the product\n",
    "        - price: price in US dollars (at time of crawl)\n",
    "        - imUrl: url of the product image\n",
    "        - related: related products (also bought, also viewed, bought together, buy after viewing)\n",
    "        - salesRank: sales rank information\n",
    "        - brand: brand name\n",
    "        - categories: list of categories the product belongs to\n"
   ]
  },
  {
   "cell_type": "code",
   "execution_count": 76,
   "metadata": {},
   "outputs": [
    {
     "name": "stdout",
     "output_type": "stream",
     "text": [
      "> Your available sources are: data_sources/meta_Apps_for_Android.json, data_sources/reviews_Apps_for_Android.json, data_sources/apps.csv\n"
     ]
    }
   ],
   "source": [
    "import pandas as pd\n",
    "import glob\n",
    "import json\n",
    "\n",
    "data_sources = glob.glob(\"data_sources/*\")\n",
    "print(\"> Your available sources are: %s\" % \", \".join(data_sources))"
   ]
  },
  {
   "cell_type": "markdown",
   "metadata": {},
   "source": [
    "### Import data from kaggle data source"
   ]
  },
  {
   "cell_type": "code",
   "execution_count": 77,
   "metadata": {},
   "outputs": [
    {
     "name": "stderr",
     "output_type": "stream",
     "text": [
      "b'Skipping line 41088: expected 11 fields, saw 12\\n'\n",
      "b'Skipping line 304239: expected 11 fields, saw 12\\n'\n",
      "/Users/Marcelpv96/anaconda3/lib/python3.7/site-packages/IPython/core/interactiveshell.py:3020: DtypeWarning: Columns (2,6,8) have mixed types. Specify dtype option on import or set low_memory=False.\n",
      "  interactivity=interactivity, compiler=compiler, result=result)\n"
     ]
    }
   ],
   "source": [
    "all_apps = pd.read_csv(\"data_sources/apps.csv\", error_bad_lines=False, encoding = \"ISO-8859-1\")"
   ]
  },
  {
   "cell_type": "markdown",
   "metadata": {},
   "source": [
    "### Import data of amazon reviews and apps"
   ]
  },
  {
   "cell_type": "code",
   "execution_count": 78,
   "metadata": {},
   "outputs": [],
   "source": [
    "metadata_file = open(\"data_sources/meta_Apps_for_Android.json\", \"r\") \n",
    "reviews_file = open(\"data_sources/reviews_Apps_for_Android.json\", \"r\")\n",
    "\n",
    "\n",
    "def parse(file):\n",
    "    for l in file:\n",
    "        yield eval(l)\n",
    "    \n",
    "def get_df(file):\n",
    "    i = 0\n",
    "    df = {}\n",
    "    for d in parse(file):\n",
    "        df[i] = d\n",
    "        i += 1\n",
    "    return pd.DataFrame.from_dict(df, orient='index')\n",
    "\n",
    "metadata_df = get_df(metadata_file)\n",
    "reviews_df = get_df(reviews_file)\n"
   ]
  },
  {
   "cell_type": "markdown",
   "metadata": {},
   "source": [
    "### Some preprocessing\n",
    "\n",
    "- Delete some stranges app-names.\n",
    "- Which will be app name for each 'asin'."
   ]
  },
  {
   "cell_type": "code",
   "execution_count": 79,
   "metadata": {},
   "outputs": [],
   "source": [
    "# Delete nan + strange characters\n",
    "\n",
    "apps_name = all_apps['name']\n",
    "\n",
    "def clean(x):\n",
    "    if type(x) == float:\n",
    "        return False\n",
    "    if \"???\" in x:\n",
    "        return False\n",
    "    if x == 'nan':\n",
    "        return False\n",
    "    return True\n",
    "\n",
    "\n",
    "apps_name = list(filter(clean,apps_name))\n",
    "\n",
    "metadata_df = metadata_df[['asin', 'related', 'categories']].dropna()\n"
   ]
  },
  {
   "cell_type": "code",
   "execution_count": 80,
   "metadata": {},
   "outputs": [
    {
     "data": {
      "text/plain": [
       "{'B004AFQAUA': 'Napster',\n",
       " 'B004AGCR1K': 'Scan2PDF Mobile 2.0',\n",
       " 'B004AHBBPW': 'Daily Bible',\n",
       " 'B004ALFHV2': 'Free Calls and Free Texting, Photo and Video Sharing and Cheap International Calls by Voxofon',\n",
       " 'B004ALVL6W': 'Bubble Defense 2',\n",
       " 'B004AMAIZQ': 'Fast Reboot',\n",
       " 'B004AMDC86': 'Enigma - Cryptograms',\n",
       " 'B004AMFUYK': 'Vegas Pool Sharks',\n",
       " 'B004AMLATE': 'Tank Ace 1944',\n",
       " 'B004AMRGLA': 'Gragger',\n",
       " 'B004ANE2WU': 'Par 72 Golf',\n",
       " 'B004ANC00Q': 'Car Locator',\n",
       " 'B004ANMWPY': 'TV Listings by TV24 - TV Guide',\n",
       " 'B004AZH4C8': 'Enjoy Sudoku',\n",
       " 'B004AZSY4K': 'Overkill: Space Shooter',\n",
       " 'B004DLX6WQ': 'Black & White Theme',\n",
       " 'B004DLX75W': 'Neon Cherries Theme',\n",
       " 'B004DM1OAQ': 'Backgammon Free',\n",
       " 'B004DM197Y': \"View a Clue Zaza's Parade\",\n",
       " 'B004DM5L0U': 'Speed Dial Old School',\n",
       " 'B004DM5L0K': 'Kids Piano',\n",
       " 'B004DP30AU': 'Spell Checker',\n",
       " 'B004DP9QFS': 'TerraTime'}"
      ]
     },
     "execution_count": 80,
     "metadata": {},
     "output_type": "execute_result"
    }
   ],
   "source": [
    "# If asin_name.json already exist, load it\n",
    "import json\n",
    "\n",
    "\n",
    "with open('asin_name.json', 'r') as f:\n",
    "    asin_name = json.load(f)"
   ]
  },
  {
   "cell_type": "code",
   "execution_count": null,
   "metadata": {},
   "outputs": [],
   "source": [
    "# Generate dictonary of, which asin is each App Name\n",
    "from web_scraper import Scraper\n",
    "import time\n",
    "import urllib\n",
    "import json\n",
    "\n",
    "\n",
    "all_asin = list(metadata_df['asin'])\n",
    "amazon_scraper = Scraper()\n",
    "for i in range(0,100):    \n",
    "    asin = all_asin[i]\n",
    "    if asin not in asin_name:\n",
    "        print(\">(%d/100) Processing asin [%s]\" %  (i,asin))\n",
    "        try:\n",
    "            app_name = amazon_scraper.main(\"https://www.amazon.com/dp/%s\" % asin)   \n",
    "            print(\"> App name is: [%s] \" % app_name)\n",
    "            asin_name[asin] = app_name\n",
    "        except urllib.error.HTTPError:\n",
    "            print(\">(%d/100) HTTP ERROR\" % i)\n",
    "        time.sleep(10)\n",
    "\n",
    "\n",
    "with open('asin_name.json', 'w+') as fp:\n",
    "    json.dump(asin_name, fp)"
   ]
  },
  {
   "cell_type": "markdown",
   "metadata": {},
   "source": [
    "### Generate Integrated schema\n",
    "\n",
    "- Our aim here is generate 4 tables of data, that will be our Integrated Schema\n",
    "\n",
    "\n",
    "- App table -> [App name, RatingCount, aggregateRating, numDownloadsMin]\n",
    "\n",
    "\n",
    "- App Categories -> [APP name, Category]\n",
    "\n",
    "\n",
    "- Related Table -> [App name , App name, 'relation (this could be: Viewed togeteher, bought together']\n",
    "\n",
    "\n",
    "- Review Table -> [App name, reviewID, reviewerID, reviewText, Rating]\n",
    "\n",
    "\n"
   ]
  },
  {
   "cell_type": "code",
   "execution_count": 81,
   "metadata": {},
   "outputs": [],
   "source": [
    "# App table: Dataframe with all Applications using information provided by Kaggle playstore dataset.\n",
    "\n",
    "def gen_app_table(all_apps):\n",
    "    app_table = all_apps.copy()\n",
    "    app_table = app_table[['name', 'price', 'aggregateRating']]\n",
    "    app_table = app_table.rename(index = str, columns={\"name\": \"app\", \"numDownloadsMin\":\"downloadsMin\", \n",
    "                                          \"price\": \"price\", 'aggregateRating': \"rating\"})\n",
    "    return app_table"
   ]
  },
  {
   "cell_type": "code",
   "execution_count": 82,
   "metadata": {},
   "outputs": [],
   "source": [
    "# Categories table, which category for each app.\n",
    "\n",
    "def gen_categories_table(metadata, asin_name):\n",
    "    values = []\n",
    "    asin = list(metadata['asin'])\n",
    "    categories = list(metadata['categories'])\n",
    "    for i in range(0, metadata.shape[0]-1):\n",
    "        for category in categories[i][0]:\n",
    "            if asin[i] in asin_name:\n",
    "                values.append((asin_name[asin[i]], category))          \n",
    "    return pd.DataFrame(values, columns=(\"app\", \"category\"))"
   ]
  },
  {
   "cell_type": "code",
   "execution_count": 83,
   "metadata": {},
   "outputs": [
    {
     "data": {
      "text/html": [
       "<div>\n",
       "<style scoped>\n",
       "    .dataframe tbody tr th:only-of-type {\n",
       "        vertical-align: middle;\n",
       "    }\n",
       "\n",
       "    .dataframe tbody tr th {\n",
       "        vertical-align: top;\n",
       "    }\n",
       "\n",
       "    .dataframe thead th {\n",
       "        text-align: right;\n",
       "    }\n",
       "</style>\n",
       "<table border=\"1\" class=\"dataframe\">\n",
       "  <thead>\n",
       "    <tr style=\"text-align: right;\">\n",
       "      <th></th>\n",
       "      <th>app</th>\n",
       "      <th>related</th>\n",
       "      <th>kind</th>\n",
       "    </tr>\n",
       "  </thead>\n",
       "  <tbody>\n",
       "  </tbody>\n",
       "</table>\n",
       "</div>"
      ],
      "text/plain": [
       "Empty DataFrame\n",
       "Columns: [app, related, kind]\n",
       "Index: []"
      ]
     },
     "execution_count": 83,
     "metadata": {},
     "output_type": "execute_result"
    }
   ],
   "source": [
    "# Related table which apps are related with which.\n",
    "\n",
    "def gen_related_table(metadata, asin_name):\n",
    "    values = []\n",
    "    asin = list(metadata['asin'])\n",
    "    related = list(metadata['related'])\n",
    "    for i in range(0, metadata.shape[0]-1):\n",
    "        app_asin = asin[i]\n",
    "        if app_asin in asin_name:\n",
    "            app = asin_name[app_asin]\n",
    "            relations = related[i]\n",
    "            for kind_relation in  relations.keys():\n",
    "                for app_related in relations[kind_relation]:\n",
    "                    if app_related in asin_name:\n",
    "                        values.append((app, asin_name[app_related], kind_relation))                \n",
    "    return pd.DataFrame(values, columns=(\"app\", \"related\", \"kind\"))\n",
    "\n",
    "gen_related_table(metadata_df, asin_name)"
   ]
  },
  {
   "cell_type": "code",
   "execution_count": 84,
   "metadata": {},
   "outputs": [],
   "source": [
    "# Review table, which review corresponds to each.\n",
    "\n",
    "def gen_reviews_table(reviews, asin_name):\n",
    "    values = []\n",
    "    asin = list(reviews['asin'])\n",
    "    reviewerID = list(reviews['reviewerID'])\n",
    "    reviewerName = list(reviews['reviewerName'])\n",
    "    helpful = list(reviews['helpful'])\n",
    "    overall = list(reviews['overall'])\n",
    "    review = list(reviews['summary'])\n",
    "    for i in range(0, reviews.shape[0]):\n",
    "        if asin[i] in asin_name:\n",
    "            values.append((i, asin_name[asin[i]], reviewerID[i], reviewerName[i], review[i], overall[i]))\n",
    "    return pd.DataFrame(values, columns=(\"reviewID\", \"app\", \"reviewerID\", \"reviewerName\", \"review\", \"overall\"))"
   ]
  },
  {
   "cell_type": "markdown",
   "metadata": {},
   "source": [
    "### Load all information to pandas dataframes"
   ]
  },
  {
   "cell_type": "code",
   "execution_count": 85,
   "metadata": {},
   "outputs": [],
   "source": [
    "df_app_table = gen_app_table(all_apps)\n",
    "df_categories_table = gen_categories_table(metadata_df, asin_name)\n",
    "df_related_table = gen_related_table(metadata_df, asin_name)\n",
    "df_reviews_table = gen_reviews_table(reviews_df, asin_name)"
   ]
  },
  {
   "cell_type": "markdown",
   "metadata": {},
   "source": [
    "### Write final results in diferent '.csv' files"
   ]
  },
  {
   "cell_type": "code",
   "execution_count": 86,
   "metadata": {},
   "outputs": [],
   "source": [
    "df_app_table.to_csv(\"integrated_data/app.csv\")\n",
    "df_categories_table.to_csv(\"integrated_data/categories.csv\")\n",
    "df_related_table.to_csv(\"integrated_data/related.csv\")\n",
    "df_reviews_table.to_csv(\"integrated_data/reviews.csv\")"
   ]
  }
 ],
 "metadata": {
  "kernelspec": {
   "display_name": "Python 3",
   "language": "python",
   "name": "python3"
  },
  "language_info": {
   "codemirror_mode": {
    "name": "ipython",
    "version": 3
   },
   "file_extension": ".py",
   "mimetype": "text/x-python",
   "name": "python",
   "nbconvert_exporter": "python",
   "pygments_lexer": "ipython3",
   "version": "3.7.1"
  }
 },
 "nbformat": 4,
 "nbformat_minor": 2
}
